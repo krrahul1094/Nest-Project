{
 "cells": [
  {
   "cell_type": "markdown",
   "id": "29d7511a",
   "metadata": {},
   "source": [
    "# Pension Dataset Analysis (Nest Pension Ltd)\n",
    "\n",
    "This notebook loads the synthetic dataset created at:\n",
    "\n",
    "`/mnt/data/pension_project/pension_dataset.csv`\n",
    "\n",
    "Run the cells to reproduce the analysis."
   ]
  },
  {
   "cell_type": "code",
   "execution_count": 2,
   "id": "f34c5086",
   "metadata": {},
   "outputs": [
    {
     "data": {
      "text/html": [
       "<div>\n",
       "<style scoped>\n",
       "    .dataframe tbody tr th:only-of-type {\n",
       "        vertical-align: middle;\n",
       "    }\n",
       "\n",
       "    .dataframe tbody tr th {\n",
       "        vertical-align: top;\n",
       "    }\n",
       "\n",
       "    .dataframe thead th {\n",
       "        text-align: right;\n",
       "    }\n",
       "</style>\n",
       "<table border=\"1\" class=\"dataframe\">\n",
       "  <thead>\n",
       "    <tr style=\"text-align: right;\">\n",
       "      <th></th>\n",
       "      <th>member_id</th>\n",
       "      <th>employer_ref</th>\n",
       "      <th>policy_number</th>\n",
       "      <th>enrolment_date</th>\n",
       "      <th>total_contribution_cumulative_eur</th>\n",
       "      <th>retirement_date</th>\n",
       "      <th>employee_contribution_monthly_eur</th>\n",
       "      <th>employer_contribution_monthly_eur</th>\n",
       "      <th>age</th>\n",
       "      <th>gender</th>\n",
       "      <th>opt_out_date</th>\n",
       "      <th>company_name</th>\n",
       "      <th>annual_salary_estimate_eur</th>\n",
       "    </tr>\n",
       "  </thead>\n",
       "  <tbody>\n",
       "    <tr>\n",
       "      <th>0</th>\n",
       "      <td>MEM0000001</td>\n",
       "      <td>EMP000016</td>\n",
       "      <td>2338687</td>\n",
       "      <td>2014-04-08</td>\n",
       "      <td>45325.06</td>\n",
       "      <td>2026-06-15</td>\n",
       "      <td>177.77</td>\n",
       "      <td>170.88</td>\n",
       "      <td>64</td>\n",
       "      <td>Male</td>\n",
       "      <td>NaT</td>\n",
       "      <td>Nest Pension Ltd</td>\n",
       "      <td>42450</td>\n",
       "    </tr>\n",
       "    <tr>\n",
       "      <th>1</th>\n",
       "      <td>MEM0000002</td>\n",
       "      <td>EMP000018</td>\n",
       "      <td>5418934</td>\n",
       "      <td>2015-08-09</td>\n",
       "      <td>16415.45</td>\n",
       "      <td>2061-05-05</td>\n",
       "      <td>65.63</td>\n",
       "      <td>78.37</td>\n",
       "      <td>33</td>\n",
       "      <td>Male</td>\n",
       "      <td>NaT</td>\n",
       "      <td>Nest Pension Ltd</td>\n",
       "      <td>32926</td>\n",
       "    </tr>\n",
       "    <tr>\n",
       "      <th>2</th>\n",
       "      <td>MEM0000003</td>\n",
       "      <td>EMP000042</td>\n",
       "      <td>1971823</td>\n",
       "      <td>2010-05-01</td>\n",
       "      <td>36255.11</td>\n",
       "      <td>2047-07-16</td>\n",
       "      <td>111.41</td>\n",
       "      <td>92.27</td>\n",
       "      <td>39</td>\n",
       "      <td>Male</td>\n",
       "      <td>NaT</td>\n",
       "      <td>Nest Pension Ltd</td>\n",
       "      <td>58688</td>\n",
       "    </tr>\n",
       "    <tr>\n",
       "      <th>3</th>\n",
       "      <td>MEM0000004</td>\n",
       "      <td>EMP000031</td>\n",
       "      <td>8606962</td>\n",
       "      <td>2018-12-30</td>\n",
       "      <td>16124.05</td>\n",
       "      <td>2056-07-02</td>\n",
       "      <td>103.41</td>\n",
       "      <td>117.47</td>\n",
       "      <td>29</td>\n",
       "      <td>Male</td>\n",
       "      <td>NaT</td>\n",
       "      <td>Nest Pension Ltd</td>\n",
       "      <td>46511</td>\n",
       "    </tr>\n",
       "    <tr>\n",
       "      <th>4</th>\n",
       "      <td>MEM0000005</td>\n",
       "      <td>EMP000025</td>\n",
       "      <td>7366205</td>\n",
       "      <td>2020-03-16</td>\n",
       "      <td>13920.04</td>\n",
       "      <td>2051-02-28</td>\n",
       "      <td>114.99</td>\n",
       "      <td>125.01</td>\n",
       "      <td>42</td>\n",
       "      <td>Female</td>\n",
       "      <td>NaT</td>\n",
       "      <td>Nest Pension Ltd</td>\n",
       "      <td>38629</td>\n",
       "    </tr>\n",
       "  </tbody>\n",
       "</table>\n",
       "</div>"
      ],
      "text/plain": [
       "    member_id employer_ref  policy_number enrolment_date  \\\n",
       "0  MEM0000001    EMP000016        2338687     2014-04-08   \n",
       "1  MEM0000002    EMP000018        5418934     2015-08-09   \n",
       "2  MEM0000003    EMP000042        1971823     2010-05-01   \n",
       "3  MEM0000004    EMP000031        8606962     2018-12-30   \n",
       "4  MEM0000005    EMP000025        7366205     2020-03-16   \n",
       "\n",
       "   total_contribution_cumulative_eur retirement_date  \\\n",
       "0                           45325.06      2026-06-15   \n",
       "1                           16415.45      2061-05-05   \n",
       "2                           36255.11      2047-07-16   \n",
       "3                           16124.05      2056-07-02   \n",
       "4                           13920.04      2051-02-28   \n",
       "\n",
       "   employee_contribution_monthly_eur  employer_contribution_monthly_eur  age  \\\n",
       "0                             177.77                             170.88   64   \n",
       "1                              65.63                              78.37   33   \n",
       "2                             111.41                              92.27   39   \n",
       "3                             103.41                             117.47   29   \n",
       "4                             114.99                             125.01   42   \n",
       "\n",
       "   gender opt_out_date      company_name  annual_salary_estimate_eur  \n",
       "0    Male          NaT  Nest Pension Ltd                       42450  \n",
       "1    Male          NaT  Nest Pension Ltd                       32926  \n",
       "2    Male          NaT  Nest Pension Ltd                       58688  \n",
       "3    Male          NaT  Nest Pension Ltd                       46511  \n",
       "4  Female          NaT  Nest Pension Ltd                       38629  "
      ]
     },
     "execution_count": 2,
     "metadata": {},
     "output_type": "execute_result"
    }
   ],
   "source": [
    "import pandas as pd\n",
    "import numpy as np\n",
    "import os\n",
    "from datetime import timedelta\n",
    "import seaborn as sns\n",
    "import matplotlib.pyplot as plt\n",
    "import plotly.express as px\n",
    "import plotly.graph_objects as go\n",
    "DATA = 'pension_dataset.csv'\n",
    "df = pd.read_csv(DATA, parse_dates=['enrolment_date','retirement_date','opt_out_date'], dayfirst=False)\n",
    "df.head()"
   ]
  },
  {
   "cell_type": "code",
   "execution_count": 3,
   "id": "0ac0d2ed",
   "metadata": {},
   "outputs": [
    {
     "name": "stdout",
     "output_type": "stream",
     "text": [
      "    enrol_year  member_id\n",
      "0         2010        642\n",
      "1         2011        684\n",
      "2         2012        653\n",
      "3         2013        650\n",
      "4         2014        609\n",
      "5         2015        695\n",
      "6         2016        715\n",
      "7         2017        689\n",
      "8         2018        647\n",
      "9         2019        676\n",
      "10        2020        691\n",
      "11        2021        686\n",
      "12        2022        655\n",
      "13        2023        636\n",
      "14        2024        672\n"
     ]
    },
    {
     "data": {
      "application/vnd.plotly.v1+json": {
       "config": {
        "plotlyServerURL": "https://plot.ly"
       },
       "data": [
        {
         "hovertemplate": "enrol_year=%{x}<br>member_id=%{y}<extra></extra>",
         "legendgroup": "",
         "marker": {
          "color": "#636efa",
          "pattern": {
           "shape": ""
          }
         },
         "name": "",
         "orientation": "v",
         "showlegend": false,
         "textposition": "auto",
         "type": "bar",
         "x": {
          "bdata": "2gcAANsHAADcBwAA3QcAAN4HAADfBwAA4AcAAOEHAADiBwAA4wcAAOQHAADlBwAA5gcAAOcHAADoBwAA",
          "dtype": "i4"
         },
         "xaxis": "x",
         "y": {
          "bdata": "ggKsAo0CigJhArcCywKxAocCpAKzAq4CjwJ8AqAC",
          "dtype": "i2"
         },
         "yaxis": "y"
        }
       ],
       "layout": {
        "barmode": "relative",
        "legend": {
         "tracegroupgap": 0
        },
        "template": {
         "data": {
          "bar": [
           {
            "error_x": {
             "color": "#2a3f5f"
            },
            "error_y": {
             "color": "#2a3f5f"
            },
            "marker": {
             "line": {
              "color": "#E5ECF6",
              "width": 0.5
             },
             "pattern": {
              "fillmode": "overlay",
              "size": 10,
              "solidity": 0.2
             }
            },
            "type": "bar"
           }
          ],
          "barpolar": [
           {
            "marker": {
             "line": {
              "color": "#E5ECF6",
              "width": 0.5
             },
             "pattern": {
              "fillmode": "overlay",
              "size": 10,
              "solidity": 0.2
             }
            },
            "type": "barpolar"
           }
          ],
          "carpet": [
           {
            "aaxis": {
             "endlinecolor": "#2a3f5f",
             "gridcolor": "white",
             "linecolor": "white",
             "minorgridcolor": "white",
             "startlinecolor": "#2a3f5f"
            },
            "baxis": {
             "endlinecolor": "#2a3f5f",
             "gridcolor": "white",
             "linecolor": "white",
             "minorgridcolor": "white",
             "startlinecolor": "#2a3f5f"
            },
            "type": "carpet"
           }
          ],
          "choropleth": [
           {
            "colorbar": {
             "outlinewidth": 0,
             "ticks": ""
            },
            "type": "choropleth"
           }
          ],
          "contour": [
           {
            "colorbar": {
             "outlinewidth": 0,
             "ticks": ""
            },
            "colorscale": [
             [
              0,
              "#0d0887"
             ],
             [
              0.1111111111111111,
              "#46039f"
             ],
             [
              0.2222222222222222,
              "#7201a8"
             ],
             [
              0.3333333333333333,
              "#9c179e"
             ],
             [
              0.4444444444444444,
              "#bd3786"
             ],
             [
              0.5555555555555556,
              "#d8576b"
             ],
             [
              0.6666666666666666,
              "#ed7953"
             ],
             [
              0.7777777777777778,
              "#fb9f3a"
             ],
             [
              0.8888888888888888,
              "#fdca26"
             ],
             [
              1,
              "#f0f921"
             ]
            ],
            "type": "contour"
           }
          ],
          "contourcarpet": [
           {
            "colorbar": {
             "outlinewidth": 0,
             "ticks": ""
            },
            "type": "contourcarpet"
           }
          ],
          "heatmap": [
           {
            "colorbar": {
             "outlinewidth": 0,
             "ticks": ""
            },
            "colorscale": [
             [
              0,
              "#0d0887"
             ],
             [
              0.1111111111111111,
              "#46039f"
             ],
             [
              0.2222222222222222,
              "#7201a8"
             ],
             [
              0.3333333333333333,
              "#9c179e"
             ],
             [
              0.4444444444444444,
              "#bd3786"
             ],
             [
              0.5555555555555556,
              "#d8576b"
             ],
             [
              0.6666666666666666,
              "#ed7953"
             ],
             [
              0.7777777777777778,
              "#fb9f3a"
             ],
             [
              0.8888888888888888,
              "#fdca26"
             ],
             [
              1,
              "#f0f921"
             ]
            ],
            "type": "heatmap"
           }
          ],
          "histogram": [
           {
            "marker": {
             "pattern": {
              "fillmode": "overlay",
              "size": 10,
              "solidity": 0.2
             }
            },
            "type": "histogram"
           }
          ],
          "histogram2d": [
           {
            "colorbar": {
             "outlinewidth": 0,
             "ticks": ""
            },
            "colorscale": [
             [
              0,
              "#0d0887"
             ],
             [
              0.1111111111111111,
              "#46039f"
             ],
             [
              0.2222222222222222,
              "#7201a8"
             ],
             [
              0.3333333333333333,
              "#9c179e"
             ],
             [
              0.4444444444444444,
              "#bd3786"
             ],
             [
              0.5555555555555556,
              "#d8576b"
             ],
             [
              0.6666666666666666,
              "#ed7953"
             ],
             [
              0.7777777777777778,
              "#fb9f3a"
             ],
             [
              0.8888888888888888,
              "#fdca26"
             ],
             [
              1,
              "#f0f921"
             ]
            ],
            "type": "histogram2d"
           }
          ],
          "histogram2dcontour": [
           {
            "colorbar": {
             "outlinewidth": 0,
             "ticks": ""
            },
            "colorscale": [
             [
              0,
              "#0d0887"
             ],
             [
              0.1111111111111111,
              "#46039f"
             ],
             [
              0.2222222222222222,
              "#7201a8"
             ],
             [
              0.3333333333333333,
              "#9c179e"
             ],
             [
              0.4444444444444444,
              "#bd3786"
             ],
             [
              0.5555555555555556,
              "#d8576b"
             ],
             [
              0.6666666666666666,
              "#ed7953"
             ],
             [
              0.7777777777777778,
              "#fb9f3a"
             ],
             [
              0.8888888888888888,
              "#fdca26"
             ],
             [
              1,
              "#f0f921"
             ]
            ],
            "type": "histogram2dcontour"
           }
          ],
          "mesh3d": [
           {
            "colorbar": {
             "outlinewidth": 0,
             "ticks": ""
            },
            "type": "mesh3d"
           }
          ],
          "parcoords": [
           {
            "line": {
             "colorbar": {
              "outlinewidth": 0,
              "ticks": ""
             }
            },
            "type": "parcoords"
           }
          ],
          "pie": [
           {
            "automargin": true,
            "type": "pie"
           }
          ],
          "scatter": [
           {
            "fillpattern": {
             "fillmode": "overlay",
             "size": 10,
             "solidity": 0.2
            },
            "type": "scatter"
           }
          ],
          "scatter3d": [
           {
            "line": {
             "colorbar": {
              "outlinewidth": 0,
              "ticks": ""
             }
            },
            "marker": {
             "colorbar": {
              "outlinewidth": 0,
              "ticks": ""
             }
            },
            "type": "scatter3d"
           }
          ],
          "scattercarpet": [
           {
            "marker": {
             "colorbar": {
              "outlinewidth": 0,
              "ticks": ""
             }
            },
            "type": "scattercarpet"
           }
          ],
          "scattergeo": [
           {
            "marker": {
             "colorbar": {
              "outlinewidth": 0,
              "ticks": ""
             }
            },
            "type": "scattergeo"
           }
          ],
          "scattergl": [
           {
            "marker": {
             "colorbar": {
              "outlinewidth": 0,
              "ticks": ""
             }
            },
            "type": "scattergl"
           }
          ],
          "scattermap": [
           {
            "marker": {
             "colorbar": {
              "outlinewidth": 0,
              "ticks": ""
             }
            },
            "type": "scattermap"
           }
          ],
          "scattermapbox": [
           {
            "marker": {
             "colorbar": {
              "outlinewidth": 0,
              "ticks": ""
             }
            },
            "type": "scattermapbox"
           }
          ],
          "scatterpolar": [
           {
            "marker": {
             "colorbar": {
              "outlinewidth": 0,
              "ticks": ""
             }
            },
            "type": "scatterpolar"
           }
          ],
          "scatterpolargl": [
           {
            "marker": {
             "colorbar": {
              "outlinewidth": 0,
              "ticks": ""
             }
            },
            "type": "scatterpolargl"
           }
          ],
          "scatterternary": [
           {
            "marker": {
             "colorbar": {
              "outlinewidth": 0,
              "ticks": ""
             }
            },
            "type": "scatterternary"
           }
          ],
          "surface": [
           {
            "colorbar": {
             "outlinewidth": 0,
             "ticks": ""
            },
            "colorscale": [
             [
              0,
              "#0d0887"
             ],
             [
              0.1111111111111111,
              "#46039f"
             ],
             [
              0.2222222222222222,
              "#7201a8"
             ],
             [
              0.3333333333333333,
              "#9c179e"
             ],
             [
              0.4444444444444444,
              "#bd3786"
             ],
             [
              0.5555555555555556,
              "#d8576b"
             ],
             [
              0.6666666666666666,
              "#ed7953"
             ],
             [
              0.7777777777777778,
              "#fb9f3a"
             ],
             [
              0.8888888888888888,
              "#fdca26"
             ],
             [
              1,
              "#f0f921"
             ]
            ],
            "type": "surface"
           }
          ],
          "table": [
           {
            "cells": {
             "fill": {
              "color": "#EBF0F8"
             },
             "line": {
              "color": "white"
             }
            },
            "header": {
             "fill": {
              "color": "#C8D4E3"
             },
             "line": {
              "color": "white"
             }
            },
            "type": "table"
           }
          ]
         },
         "layout": {
          "annotationdefaults": {
           "arrowcolor": "#2a3f5f",
           "arrowhead": 0,
           "arrowwidth": 1
          },
          "autotypenumbers": "strict",
          "coloraxis": {
           "colorbar": {
            "outlinewidth": 0,
            "ticks": ""
           }
          },
          "colorscale": {
           "diverging": [
            [
             0,
             "#8e0152"
            ],
            [
             0.1,
             "#c51b7d"
            ],
            [
             0.2,
             "#de77ae"
            ],
            [
             0.3,
             "#f1b6da"
            ],
            [
             0.4,
             "#fde0ef"
            ],
            [
             0.5,
             "#f7f7f7"
            ],
            [
             0.6,
             "#e6f5d0"
            ],
            [
             0.7,
             "#b8e186"
            ],
            [
             0.8,
             "#7fbc41"
            ],
            [
             0.9,
             "#4d9221"
            ],
            [
             1,
             "#276419"
            ]
           ],
           "sequential": [
            [
             0,
             "#0d0887"
            ],
            [
             0.1111111111111111,
             "#46039f"
            ],
            [
             0.2222222222222222,
             "#7201a8"
            ],
            [
             0.3333333333333333,
             "#9c179e"
            ],
            [
             0.4444444444444444,
             "#bd3786"
            ],
            [
             0.5555555555555556,
             "#d8576b"
            ],
            [
             0.6666666666666666,
             "#ed7953"
            ],
            [
             0.7777777777777778,
             "#fb9f3a"
            ],
            [
             0.8888888888888888,
             "#fdca26"
            ],
            [
             1,
             "#f0f921"
            ]
           ],
           "sequentialminus": [
            [
             0,
             "#0d0887"
            ],
            [
             0.1111111111111111,
             "#46039f"
            ],
            [
             0.2222222222222222,
             "#7201a8"
            ],
            [
             0.3333333333333333,
             "#9c179e"
            ],
            [
             0.4444444444444444,
             "#bd3786"
            ],
            [
             0.5555555555555556,
             "#d8576b"
            ],
            [
             0.6666666666666666,
             "#ed7953"
            ],
            [
             0.7777777777777778,
             "#fb9f3a"
            ],
            [
             0.8888888888888888,
             "#fdca26"
            ],
            [
             1,
             "#f0f921"
            ]
           ]
          },
          "colorway": [
           "#636efa",
           "#EF553B",
           "#00cc96",
           "#ab63fa",
           "#FFA15A",
           "#19d3f3",
           "#FF6692",
           "#B6E880",
           "#FF97FF",
           "#FECB52"
          ],
          "font": {
           "color": "#2a3f5f"
          },
          "geo": {
           "bgcolor": "white",
           "lakecolor": "white",
           "landcolor": "#E5ECF6",
           "showlakes": true,
           "showland": true,
           "subunitcolor": "white"
          },
          "hoverlabel": {
           "align": "left"
          },
          "hovermode": "closest",
          "mapbox": {
           "style": "light"
          },
          "paper_bgcolor": "white",
          "plot_bgcolor": "#E5ECF6",
          "polar": {
           "angularaxis": {
            "gridcolor": "white",
            "linecolor": "white",
            "ticks": ""
           },
           "bgcolor": "#E5ECF6",
           "radialaxis": {
            "gridcolor": "white",
            "linecolor": "white",
            "ticks": ""
           }
          },
          "scene": {
           "xaxis": {
            "backgroundcolor": "#E5ECF6",
            "gridcolor": "white",
            "gridwidth": 2,
            "linecolor": "white",
            "showbackground": true,
            "ticks": "",
            "zerolinecolor": "white"
           },
           "yaxis": {
            "backgroundcolor": "#E5ECF6",
            "gridcolor": "white",
            "gridwidth": 2,
            "linecolor": "white",
            "showbackground": true,
            "ticks": "",
            "zerolinecolor": "white"
           },
           "zaxis": {
            "backgroundcolor": "#E5ECF6",
            "gridcolor": "white",
            "gridwidth": 2,
            "linecolor": "white",
            "showbackground": true,
            "ticks": "",
            "zerolinecolor": "white"
           }
          },
          "shapedefaults": {
           "line": {
            "color": "#2a3f5f"
           }
          },
          "ternary": {
           "aaxis": {
            "gridcolor": "white",
            "linecolor": "white",
            "ticks": ""
           },
           "baxis": {
            "gridcolor": "white",
            "linecolor": "white",
            "ticks": ""
           },
           "bgcolor": "#E5ECF6",
           "caxis": {
            "gridcolor": "white",
            "linecolor": "white",
            "ticks": ""
           }
          },
          "title": {
           "x": 0.05
          },
          "xaxis": {
           "automargin": true,
           "gridcolor": "white",
           "linecolor": "white",
           "ticks": "",
           "title": {
            "standoff": 15
           },
           "zerolinecolor": "white",
           "zerolinewidth": 2
          },
          "yaxis": {
           "automargin": true,
           "gridcolor": "white",
           "linecolor": "white",
           "ticks": "",
           "title": {
            "standoff": 15
           },
           "zerolinecolor": "white",
           "zerolinewidth": 2
          }
         }
        },
        "title": {
         "text": "Enrolments by Year"
        },
        "xaxis": {
         "anchor": "y",
         "domain": [
          0,
          1
         ],
         "title": {
          "text": "enrol_year"
         }
        },
        "yaxis": {
         "anchor": "x",
         "domain": [
          0,
          1
         ],
         "title": {
          "text": "member_id"
         }
        }
       }
      }
     },
     "metadata": {},
     "output_type": "display_data"
    }
   ],
   "source": [
    "# Example: enrolments by year\n",
    "import matplotlib.pyplot as plt\n",
    "enrol = df.copy()\n",
    "enrol['enrol_year'] = pd.to_datetime(enrol['enrolment_date']).dt.year\n",
    "enrol_year = enrol.groupby('enrol_year')['member_id'].count().reset_index()\n",
    "print(enrol_year)\n",
    "fig = px.bar(enrol_year, x='enrol_year', y='member_id', title='Enrolments by Year')\n",
    "fig.show()"
   ]
  },
  {
   "cell_type": "code",
   "execution_count": 3,
   "id": "c82c268e",
   "metadata": {},
   "outputs": [
    {
     "data": {
      "text/plain": [
       "['ChatGPT Image Oct 15, 2025, 02_08_03 PM.png',\n",
       " 'ChatGPT Image Oct 15, 2025, 02_20_40 PM.png',\n",
       " 'pension_analysis.ipynb',\n",
       " 'pension_dataset.csv',\n",
       " 'pension_summary.xlsx']"
      ]
     },
     "execution_count": 3,
     "metadata": {},
     "output_type": "execute_result"
    }
   ],
   "source": [
    "os.listdir('.') "
   ]
  },
  {
   "cell_type": "code",
   "execution_count": 5,
   "id": "57f2b893",
   "metadata": {},
   "outputs": [
    {
     "name": "stdout",
     "output_type": "stream",
     "text": [
      "Rows loaded: 10000\n"
     ]
    },
    {
     "data": {
      "text/html": [
       "<div>\n",
       "<style scoped>\n",
       "    .dataframe tbody tr th:only-of-type {\n",
       "        vertical-align: middle;\n",
       "    }\n",
       "\n",
       "    .dataframe tbody tr th {\n",
       "        vertical-align: top;\n",
       "    }\n",
       "\n",
       "    .dataframe thead th {\n",
       "        text-align: right;\n",
       "    }\n",
       "</style>\n",
       "<table border=\"1\" class=\"dataframe\">\n",
       "  <thead>\n",
       "    <tr style=\"text-align: right;\">\n",
       "      <th></th>\n",
       "      <th>member_id</th>\n",
       "      <th>employer_ref</th>\n",
       "      <th>policy_number</th>\n",
       "      <th>enrolment_date</th>\n",
       "      <th>total_contribution_cumulative_eur</th>\n",
       "      <th>retirement_date</th>\n",
       "      <th>employee_contribution_monthly_eur</th>\n",
       "      <th>employer_contribution_monthly_eur</th>\n",
       "      <th>age</th>\n",
       "      <th>gender</th>\n",
       "      <th>opt_out_date</th>\n",
       "      <th>company_name</th>\n",
       "      <th>annual_salary_estimate_eur</th>\n",
       "      <th>enrolment_year</th>\n",
       "      <th>enrolment_month</th>\n",
       "      <th>enrolment_day</th>\n",
       "      <th>opted_out</th>\n",
       "      <th>total_monthly_contrib</th>\n",
       "    </tr>\n",
       "  </thead>\n",
       "  <tbody>\n",
       "    <tr>\n",
       "      <th>0</th>\n",
       "      <td>MEM0000001</td>\n",
       "      <td>EMP000016</td>\n",
       "      <td>2338687</td>\n",
       "      <td>2014-04-08</td>\n",
       "      <td>45325.06</td>\n",
       "      <td>2026-06-15</td>\n",
       "      <td>177.77</td>\n",
       "      <td>170.88</td>\n",
       "      <td>64</td>\n",
       "      <td>Male</td>\n",
       "      <td>NaT</td>\n",
       "      <td>Nest Pension Ltd</td>\n",
       "      <td>42450</td>\n",
       "      <td>2014</td>\n",
       "      <td>2014-04</td>\n",
       "      <td>2014-04-08</td>\n",
       "      <td>False</td>\n",
       "      <td>348.65</td>\n",
       "    </tr>\n",
       "    <tr>\n",
       "      <th>1</th>\n",
       "      <td>MEM0000002</td>\n",
       "      <td>EMP000018</td>\n",
       "      <td>5418934</td>\n",
       "      <td>2015-08-09</td>\n",
       "      <td>16415.45</td>\n",
       "      <td>2061-05-05</td>\n",
       "      <td>65.63</td>\n",
       "      <td>78.37</td>\n",
       "      <td>33</td>\n",
       "      <td>Male</td>\n",
       "      <td>NaT</td>\n",
       "      <td>Nest Pension Ltd</td>\n",
       "      <td>32926</td>\n",
       "      <td>2015</td>\n",
       "      <td>2015-08</td>\n",
       "      <td>2015-08-09</td>\n",
       "      <td>False</td>\n",
       "      <td>144.00</td>\n",
       "    </tr>\n",
       "    <tr>\n",
       "      <th>2</th>\n",
       "      <td>MEM0000003</td>\n",
       "      <td>EMP000042</td>\n",
       "      <td>1971823</td>\n",
       "      <td>2010-05-01</td>\n",
       "      <td>36255.11</td>\n",
       "      <td>2047-07-16</td>\n",
       "      <td>111.41</td>\n",
       "      <td>92.27</td>\n",
       "      <td>39</td>\n",
       "      <td>Male</td>\n",
       "      <td>NaT</td>\n",
       "      <td>Nest Pension Ltd</td>\n",
       "      <td>58688</td>\n",
       "      <td>2010</td>\n",
       "      <td>2010-05</td>\n",
       "      <td>2010-05-01</td>\n",
       "      <td>False</td>\n",
       "      <td>203.68</td>\n",
       "    </tr>\n",
       "    <tr>\n",
       "      <th>3</th>\n",
       "      <td>MEM0000004</td>\n",
       "      <td>EMP000031</td>\n",
       "      <td>8606962</td>\n",
       "      <td>2018-12-30</td>\n",
       "      <td>16124.05</td>\n",
       "      <td>2056-07-02</td>\n",
       "      <td>103.41</td>\n",
       "      <td>117.47</td>\n",
       "      <td>29</td>\n",
       "      <td>Male</td>\n",
       "      <td>NaT</td>\n",
       "      <td>Nest Pension Ltd</td>\n",
       "      <td>46511</td>\n",
       "      <td>2018</td>\n",
       "      <td>2018-12</td>\n",
       "      <td>2018-12-30</td>\n",
       "      <td>False</td>\n",
       "      <td>220.88</td>\n",
       "    </tr>\n",
       "    <tr>\n",
       "      <th>4</th>\n",
       "      <td>MEM0000005</td>\n",
       "      <td>EMP000025</td>\n",
       "      <td>7366205</td>\n",
       "      <td>2020-03-16</td>\n",
       "      <td>13920.04</td>\n",
       "      <td>2051-02-28</td>\n",
       "      <td>114.99</td>\n",
       "      <td>125.01</td>\n",
       "      <td>42</td>\n",
       "      <td>Female</td>\n",
       "      <td>NaT</td>\n",
       "      <td>Nest Pension Ltd</td>\n",
       "      <td>38629</td>\n",
       "      <td>2020</td>\n",
       "      <td>2020-03</td>\n",
       "      <td>2020-03-16</td>\n",
       "      <td>False</td>\n",
       "      <td>240.00</td>\n",
       "    </tr>\n",
       "  </tbody>\n",
       "</table>\n",
       "</div>"
      ],
      "text/plain": [
       "    member_id employer_ref  policy_number enrolment_date  \\\n",
       "0  MEM0000001    EMP000016        2338687     2014-04-08   \n",
       "1  MEM0000002    EMP000018        5418934     2015-08-09   \n",
       "2  MEM0000003    EMP000042        1971823     2010-05-01   \n",
       "3  MEM0000004    EMP000031        8606962     2018-12-30   \n",
       "4  MEM0000005    EMP000025        7366205     2020-03-16   \n",
       "\n",
       "   total_contribution_cumulative_eur retirement_date  \\\n",
       "0                           45325.06      2026-06-15   \n",
       "1                           16415.45      2061-05-05   \n",
       "2                           36255.11      2047-07-16   \n",
       "3                           16124.05      2056-07-02   \n",
       "4                           13920.04      2051-02-28   \n",
       "\n",
       "   employee_contribution_monthly_eur  employer_contribution_monthly_eur  age  \\\n",
       "0                             177.77                             170.88   64   \n",
       "1                              65.63                              78.37   33   \n",
       "2                             111.41                              92.27   39   \n",
       "3                             103.41                             117.47   29   \n",
       "4                             114.99                             125.01   42   \n",
       "\n",
       "   gender opt_out_date      company_name  annual_salary_estimate_eur  \\\n",
       "0    Male          NaT  Nest Pension Ltd                       42450   \n",
       "1    Male          NaT  Nest Pension Ltd                       32926   \n",
       "2    Male          NaT  Nest Pension Ltd                       58688   \n",
       "3    Male          NaT  Nest Pension Ltd                       46511   \n",
       "4  Female          NaT  Nest Pension Ltd                       38629   \n",
       "\n",
       "   enrolment_year enrolment_month enrolment_day  opted_out  \\\n",
       "0            2014         2014-04    2014-04-08      False   \n",
       "1            2015         2015-08    2015-08-09      False   \n",
       "2            2010         2010-05    2010-05-01      False   \n",
       "3            2018         2018-12    2018-12-30      False   \n",
       "4            2020         2020-03    2020-03-16      False   \n",
       "\n",
       "   total_monthly_contrib  \n",
       "0                 348.65  \n",
       "1                 144.00  \n",
       "2                 203.68  \n",
       "3                 220.88  \n",
       "4                 240.00  "
      ]
     },
     "execution_count": 5,
     "metadata": {},
     "output_type": "execute_result"
    }
   ],
   "source": [
    "df['enrolment_year'] = df['enrolment_date'].dt.year\n",
    "df['enrolment_month'] = df['enrolment_date'].dt.to_period('M').astype(str)\n",
    "df['enrolment_day'] = df['enrolment_date'].dt.date\n",
    "df['opted_out'] = df['opt_out_date'].notna() & (df['opt_out_date'].astype(str) != \"\")\n",
    "df['total_monthly_contrib'] = df['employee_contribution_monthly_eur'] + df['employer_contribution_monthly_eur']\n",
    "\n",
    "print(\"Rows loaded:\", len(df))\n",
    "df.head()"
   ]
  },
  {
   "cell_type": "code",
   "execution_count": 8,
   "id": "99e4ec55",
   "metadata": {},
   "outputs": [
    {
     "data": {
      "text/html": [
       "<div>\n",
       "<style scoped>\n",
       "    .dataframe tbody tr th:only-of-type {\n",
       "        vertical-align: middle;\n",
       "    }\n",
       "\n",
       "    .dataframe tbody tr th {\n",
       "        vertical-align: top;\n",
       "    }\n",
       "\n",
       "    .dataframe thead th {\n",
       "        text-align: right;\n",
       "    }\n",
       "</style>\n",
       "<table border=\"1\" class=\"dataframe\">\n",
       "  <thead>\n",
       "    <tr style=\"text-align: right;\">\n",
       "      <th></th>\n",
       "      <th>enrolment_month</th>\n",
       "      <th>new_members</th>\n",
       "      <th>month_dt</th>\n",
       "    </tr>\n",
       "  </thead>\n",
       "  <tbody>\n",
       "    <tr>\n",
       "      <th>168</th>\n",
       "      <td>2024-01</td>\n",
       "      <td>55</td>\n",
       "      <td>2024-01-01</td>\n",
       "    </tr>\n",
       "    <tr>\n",
       "      <th>169</th>\n",
       "      <td>2024-02</td>\n",
       "      <td>45</td>\n",
       "      <td>2024-02-01</td>\n",
       "    </tr>\n",
       "    <tr>\n",
       "      <th>170</th>\n",
       "      <td>2024-03</td>\n",
       "      <td>63</td>\n",
       "      <td>2024-03-01</td>\n",
       "    </tr>\n",
       "    <tr>\n",
       "      <th>171</th>\n",
       "      <td>2024-04</td>\n",
       "      <td>55</td>\n",
       "      <td>2024-04-01</td>\n",
       "    </tr>\n",
       "    <tr>\n",
       "      <th>172</th>\n",
       "      <td>2024-05</td>\n",
       "      <td>66</td>\n",
       "      <td>2024-05-01</td>\n",
       "    </tr>\n",
       "    <tr>\n",
       "      <th>173</th>\n",
       "      <td>2024-06</td>\n",
       "      <td>54</td>\n",
       "      <td>2024-06-01</td>\n",
       "    </tr>\n",
       "    <tr>\n",
       "      <th>174</th>\n",
       "      <td>2024-07</td>\n",
       "      <td>58</td>\n",
       "      <td>2024-07-01</td>\n",
       "    </tr>\n",
       "    <tr>\n",
       "      <th>175</th>\n",
       "      <td>2024-08</td>\n",
       "      <td>58</td>\n",
       "      <td>2024-08-01</td>\n",
       "    </tr>\n",
       "    <tr>\n",
       "      <th>176</th>\n",
       "      <td>2024-09</td>\n",
       "      <td>40</td>\n",
       "      <td>2024-09-01</td>\n",
       "    </tr>\n",
       "    <tr>\n",
       "      <th>177</th>\n",
       "      <td>2024-10</td>\n",
       "      <td>68</td>\n",
       "      <td>2024-10-01</td>\n",
       "    </tr>\n",
       "    <tr>\n",
       "      <th>178</th>\n",
       "      <td>2024-11</td>\n",
       "      <td>58</td>\n",
       "      <td>2024-11-01</td>\n",
       "    </tr>\n",
       "    <tr>\n",
       "      <th>179</th>\n",
       "      <td>2024-12</td>\n",
       "      <td>52</td>\n",
       "      <td>2024-12-01</td>\n",
       "    </tr>\n",
       "  </tbody>\n",
       "</table>\n",
       "</div>"
      ],
      "text/plain": [
       "    enrolment_month  new_members   month_dt\n",
       "168         2024-01           55 2024-01-01\n",
       "169         2024-02           45 2024-02-01\n",
       "170         2024-03           63 2024-03-01\n",
       "171         2024-04           55 2024-04-01\n",
       "172         2024-05           66 2024-05-01\n",
       "173         2024-06           54 2024-06-01\n",
       "174         2024-07           58 2024-07-01\n",
       "175         2024-08           58 2024-08-01\n",
       "176         2024-09           40 2024-09-01\n",
       "177         2024-10           68 2024-10-01\n",
       "178         2024-11           58 2024-11-01\n",
       "179         2024-12           52 2024-12-01"
      ]
     },
     "execution_count": 8,
     "metadata": {},
     "output_type": "execute_result"
    }
   ],
   "source": [
    "enrol_monthly = df.groupby('enrolment_month')['member_id'].nunique().reset_index().rename(columns={'member_id':'new_members'})\n",
    "enrol_monthly['month_dt'] = pd.to_datetime(enrol_monthly['enrolment_month'] + \"-01\")\n",
    "enrol_monthly.sort_values('month_dt', inplace=True)\n",
    "enrol_monthly.to_csv(\"enrolments_monthly.csv\", index=False)\n",
    "enrol_monthly.tail(12)"
   ]
  },
  {
   "cell_type": "code",
   "execution_count": 9,
   "id": "c7795625",
   "metadata": {},
   "outputs": [
    {
     "data": {
      "text/html": [
       "<div>\n",
       "<style scoped>\n",
       "    .dataframe tbody tr th:only-of-type {\n",
       "        vertical-align: middle;\n",
       "    }\n",
       "\n",
       "    .dataframe tbody tr th {\n",
       "        vertical-align: top;\n",
       "    }\n",
       "\n",
       "    .dataframe thead th {\n",
       "        text-align: right;\n",
       "    }\n",
       "</style>\n",
       "<table border=\"1\" class=\"dataframe\">\n",
       "  <thead>\n",
       "    <tr style=\"text-align: right;\">\n",
       "      <th></th>\n",
       "      <th>enrolment_year</th>\n",
       "      <th>new_members</th>\n",
       "    </tr>\n",
       "  </thead>\n",
       "  <tbody>\n",
       "    <tr>\n",
       "      <th>0</th>\n",
       "      <td>2010</td>\n",
       "      <td>642</td>\n",
       "    </tr>\n",
       "    <tr>\n",
       "      <th>1</th>\n",
       "      <td>2011</td>\n",
       "      <td>684</td>\n",
       "    </tr>\n",
       "    <tr>\n",
       "      <th>2</th>\n",
       "      <td>2012</td>\n",
       "      <td>653</td>\n",
       "    </tr>\n",
       "    <tr>\n",
       "      <th>3</th>\n",
       "      <td>2013</td>\n",
       "      <td>650</td>\n",
       "    </tr>\n",
       "    <tr>\n",
       "      <th>4</th>\n",
       "      <td>2014</td>\n",
       "      <td>609</td>\n",
       "    </tr>\n",
       "    <tr>\n",
       "      <th>5</th>\n",
       "      <td>2015</td>\n",
       "      <td>695</td>\n",
       "    </tr>\n",
       "    <tr>\n",
       "      <th>6</th>\n",
       "      <td>2016</td>\n",
       "      <td>715</td>\n",
       "    </tr>\n",
       "    <tr>\n",
       "      <th>7</th>\n",
       "      <td>2017</td>\n",
       "      <td>689</td>\n",
       "    </tr>\n",
       "    <tr>\n",
       "      <th>8</th>\n",
       "      <td>2018</td>\n",
       "      <td>647</td>\n",
       "    </tr>\n",
       "    <tr>\n",
       "      <th>9</th>\n",
       "      <td>2019</td>\n",
       "      <td>676</td>\n",
       "    </tr>\n",
       "    <tr>\n",
       "      <th>10</th>\n",
       "      <td>2020</td>\n",
       "      <td>691</td>\n",
       "    </tr>\n",
       "    <tr>\n",
       "      <th>11</th>\n",
       "      <td>2021</td>\n",
       "      <td>686</td>\n",
       "    </tr>\n",
       "    <tr>\n",
       "      <th>12</th>\n",
       "      <td>2022</td>\n",
       "      <td>655</td>\n",
       "    </tr>\n",
       "    <tr>\n",
       "      <th>13</th>\n",
       "      <td>2023</td>\n",
       "      <td>636</td>\n",
       "    </tr>\n",
       "    <tr>\n",
       "      <th>14</th>\n",
       "      <td>2024</td>\n",
       "      <td>672</td>\n",
       "    </tr>\n",
       "  </tbody>\n",
       "</table>\n",
       "</div>"
      ],
      "text/plain": [
       "    enrolment_year  new_members\n",
       "0             2010          642\n",
       "1             2011          684\n",
       "2             2012          653\n",
       "3             2013          650\n",
       "4             2014          609\n",
       "5             2015          695\n",
       "6             2016          715\n",
       "7             2017          689\n",
       "8             2018          647\n",
       "9             2019          676\n",
       "10            2020          691\n",
       "11            2021          686\n",
       "12            2022          655\n",
       "13            2023          636\n",
       "14            2024          672"
      ]
     },
     "execution_count": 9,
     "metadata": {},
     "output_type": "execute_result"
    }
   ],
   "source": [
    "enrol_yearly = df.groupby('enrolment_year')['member_id'].nunique().reset_index().rename(columns={'member_id':'new_members'})\n",
    "enrol_yearly.to_csv(\"enrolments_yearly.csv\", index=False)\n",
    "enrol_yearly"
   ]
  },
  {
   "cell_type": "code",
   "execution_count": 11,
   "id": "49d0718f",
   "metadata": {},
   "outputs": [
    {
     "name": "stdout",
     "output_type": "stream",
     "text": [
      "Latest enrolment month: 2024-12 New members: 52\n"
     ]
    }
   ],
   "source": [
    "# Enrolments last month\n",
    "latest_month = enrol_monthly['enrolment_month'].max()\n",
    "last_month_count = enrol_monthly[enrol_monthly['enrolment_month']==latest_month]['new_members'].iloc[0]\n",
    "print(\"Latest enrolment month:\", latest_month, \"New members:\", last_month_count)"
   ]
  },
  {
   "cell_type": "code",
   "execution_count": 12,
   "id": "a197b453",
   "metadata": {},
   "outputs": [
    {
     "data": {
      "text/html": [
       "<div>\n",
       "<style scoped>\n",
       "    .dataframe tbody tr th:only-of-type {\n",
       "        vertical-align: middle;\n",
       "    }\n",
       "\n",
       "    .dataframe tbody tr th {\n",
       "        vertical-align: top;\n",
       "    }\n",
       "\n",
       "    .dataframe thead th {\n",
       "        text-align: right;\n",
       "    }\n",
       "</style>\n",
       "<table border=\"1\" class=\"dataframe\">\n",
       "  <thead>\n",
       "    <tr style=\"text-align: right;\">\n",
       "      <th></th>\n",
       "      <th>employer_ref</th>\n",
       "      <th>total_contribution_cumulative_eur</th>\n",
       "    </tr>\n",
       "  </thead>\n",
       "  <tbody>\n",
       "    <tr>\n",
       "      <th>38</th>\n",
       "      <td>EMP000039</td>\n",
       "      <td>5261138.49</td>\n",
       "    </tr>\n",
       "    <tr>\n",
       "      <th>36</th>\n",
       "      <td>EMP000037</td>\n",
       "      <td>5113324.09</td>\n",
       "    </tr>\n",
       "    <tr>\n",
       "      <th>37</th>\n",
       "      <td>EMP000038</td>\n",
       "      <td>4939686.36</td>\n",
       "    </tr>\n",
       "    <tr>\n",
       "      <th>22</th>\n",
       "      <td>EMP000023</td>\n",
       "      <td>4927176.64</td>\n",
       "    </tr>\n",
       "    <tr>\n",
       "      <th>44</th>\n",
       "      <td>EMP000045</td>\n",
       "      <td>4774122.73</td>\n",
       "    </tr>\n",
       "    <tr>\n",
       "      <th>35</th>\n",
       "      <td>EMP000036</td>\n",
       "      <td>4741502.34</td>\n",
       "    </tr>\n",
       "    <tr>\n",
       "      <th>49</th>\n",
       "      <td>EMP000050</td>\n",
       "      <td>4733191.33</td>\n",
       "    </tr>\n",
       "    <tr>\n",
       "      <th>27</th>\n",
       "      <td>EMP000028</td>\n",
       "      <td>4731847.39</td>\n",
       "    </tr>\n",
       "    <tr>\n",
       "      <th>32</th>\n",
       "      <td>EMP000033</td>\n",
       "      <td>4699149.72</td>\n",
       "    </tr>\n",
       "    <tr>\n",
       "      <th>28</th>\n",
       "      <td>EMP000029</td>\n",
       "      <td>4663263.46</td>\n",
       "    </tr>\n",
       "    <tr>\n",
       "      <th>16</th>\n",
       "      <td>EMP000017</td>\n",
       "      <td>4661020.27</td>\n",
       "    </tr>\n",
       "    <tr>\n",
       "      <th>8</th>\n",
       "      <td>EMP000009</td>\n",
       "      <td>4631144.13</td>\n",
       "    </tr>\n",
       "    <tr>\n",
       "      <th>14</th>\n",
       "      <td>EMP000015</td>\n",
       "      <td>4528990.45</td>\n",
       "    </tr>\n",
       "    <tr>\n",
       "      <th>1</th>\n",
       "      <td>EMP000002</td>\n",
       "      <td>4513784.24</td>\n",
       "    </tr>\n",
       "    <tr>\n",
       "      <th>15</th>\n",
       "      <td>EMP000016</td>\n",
       "      <td>4494551.70</td>\n",
       "    </tr>\n",
       "    <tr>\n",
       "      <th>26</th>\n",
       "      <td>EMP000027</td>\n",
       "      <td>4476196.54</td>\n",
       "    </tr>\n",
       "    <tr>\n",
       "      <th>45</th>\n",
       "      <td>EMP000046</td>\n",
       "      <td>4422807.22</td>\n",
       "    </tr>\n",
       "    <tr>\n",
       "      <th>31</th>\n",
       "      <td>EMP000032</td>\n",
       "      <td>4403791.47</td>\n",
       "    </tr>\n",
       "    <tr>\n",
       "      <th>34</th>\n",
       "      <td>EMP000035</td>\n",
       "      <td>4378362.83</td>\n",
       "    </tr>\n",
       "    <tr>\n",
       "      <th>29</th>\n",
       "      <td>EMP000030</td>\n",
       "      <td>4357242.06</td>\n",
       "    </tr>\n",
       "  </tbody>\n",
       "</table>\n",
       "</div>"
      ],
      "text/plain": [
       "   employer_ref  total_contribution_cumulative_eur\n",
       "38    EMP000039                         5261138.49\n",
       "36    EMP000037                         5113324.09\n",
       "37    EMP000038                         4939686.36\n",
       "22    EMP000023                         4927176.64\n",
       "44    EMP000045                         4774122.73\n",
       "35    EMP000036                         4741502.34\n",
       "49    EMP000050                         4733191.33\n",
       "27    EMP000028                         4731847.39\n",
       "32    EMP000033                         4699149.72\n",
       "28    EMP000029                         4663263.46\n",
       "16    EMP000017                         4661020.27\n",
       "8     EMP000009                         4631144.13\n",
       "14    EMP000015                         4528990.45\n",
       "1     EMP000002                         4513784.24\n",
       "15    EMP000016                         4494551.70\n",
       "26    EMP000027                         4476196.54\n",
       "45    EMP000046                         4422807.22\n",
       "31    EMP000032                         4403791.47\n",
       "34    EMP000035                         4378362.83\n",
       "29    EMP000030                         4357242.06"
      ]
     },
     "execution_count": 12,
     "metadata": {},
     "output_type": "execute_result"
    }
   ],
   "source": [
    "contrib_by_employer = df.groupby('employer_ref')['total_contribution_cumulative_eur'].sum().reset_index().sort_values('total_contribution_cumulative_eur', ascending=False)\n",
    "contrib_by_employer.to_csv(\"contrib_by_employer.csv\", index=False)\n",
    "contrib_by_employer.head(20)"
   ]
  }
 ],
 "metadata": {
  "kernelspec": {
   "display_name": "Python 3",
   "language": "python",
   "name": "python3"
  },
  "language_info": {
   "codemirror_mode": {
    "name": "ipython",
    "version": 3
   },
   "file_extension": ".py",
   "mimetype": "text/x-python",
   "name": "python",
   "nbconvert_exporter": "python",
   "pygments_lexer": "ipython3",
   "version": "3.13.9"
  }
 },
 "nbformat": 4,
 "nbformat_minor": 5
}
